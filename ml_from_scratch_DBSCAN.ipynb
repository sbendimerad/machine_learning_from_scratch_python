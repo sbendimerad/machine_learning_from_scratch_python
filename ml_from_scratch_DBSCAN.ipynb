{
  "nbformat": 4,
  "nbformat_minor": 0,
  "metadata": {
    "colab": {
      "provenance": []
    },
    "kernelspec": {
      "name": "python3",
      "display_name": "Python 3"
    },
    "language_info": {
      "name": "python"
    }
  },
  "cells": [
    {
      "cell_type": "markdown",
      "source": [
        "# ML from scratch : DBSCAN, a step by step code with python\n",
        "\n",
        "By Sabrine Bendimerad\n",
        "\n",
        "[Article link](https://)\n",
        "\n"
      ],
      "metadata": {
        "id": "qKZBhrhHObY5"
      }
    },
    {
      "cell_type": "code",
      "source": [
        "import numpy as np\n",
        "\n",
        "def dbscan(D, eps, MinPts):\n",
        "    \"\"\"\n",
        "    Implements the DBSCAN (Density-Based Spatial Clustering of Applications with Noise) algorithm.\n",
        "\n",
        "    Args:\n",
        "        D: An array representing the dataset, where each row is a data point.\n",
        "        eps: The maximum distance between two points to be considered neighbors.\n",
        "        MinPts: The minimum number of points required to form a dense region.\n",
        "\n",
        "    Returns:\n",
        "        An array of labels for each data point, where:\n",
        "            - 0: Unclassified\n",
        "            - -1: Noise\n",
        "            - Positive value: Cluster ID\n",
        "    \"\"\"\n",
        "\n",
        "    # Initialize labels for all points\n",
        "    labels = np.zeros(len(D), dtype=int)  # 0 indicates UNCLASSIFIED\n",
        "\n",
        "    # Keep track of cluster IDs\n",
        "    cluster_id = 0\n",
        "\n",
        "    def find_neighbors(P, eps):\n",
        "        \"\"\"\n",
        "        Finds the neighbors of a point P within a radius of eps.\n",
        "\n",
        "        Args:\n",
        "            P: The index of the point in the dataset.\n",
        "            eps: The radius within which to search for neighbors.\n",
        "\n",
        "        Returns:\n",
        "            A list of indices of the neighboring points.\n",
        "        \"\"\"\n",
        "\n",
        "        neighbors = []\n",
        "        for Pn in range(len(D)):\n",
        "            if np.linalg.norm(D[P] - D[Pn]) < eps:  # Check distance using Euclidean norm\n",
        "                neighbors.append(Pn)\n",
        "        return neighbors\n",
        "\n",
        "    def expand_cluster(P, neighbors, cluster_id):\n",
        "        \"\"\"\n",
        "        Expands a cluster from a seed point P by recursively adding its neighbors.\n",
        "\n",
        "        Args:\n",
        "            P: The index of the seed point.\n",
        "            neighbors: A list of indices of the initial neighbors of P.\n",
        "            cluster_id: The ID of the cluster being expanded.\n",
        "        \"\"\"\n",
        "\n",
        "        labels[P] = cluster_id  # Assign cluster ID to the seed point\n",
        "\n",
        "        i = 0  # Iterate through neighbors\n",
        "        while i < len(neighbors):\n",
        "            Pn = neighbors[i]\n",
        "\n",
        "            # UNCLASSIFIED neighbor: Add to cluster and explore its neighbors\n",
        "            if labels[Pn] == 0:\n",
        "                labels[Pn] = cluster_id  # Assign cluster ID\n",
        "                Pn_neighbors = find_neighbors(Pn, eps)\n",
        "                if len(Pn_neighbors) >= MinPts:\n",
        "                    neighbors += Pn_neighbors  # Expand cluster with new neighbors\n",
        "\n",
        "            # NOISE neighbor: Convert to BORDER point if density is sufficient\n",
        "            elif labels[Pn] == -1:\n",
        "                labels[Pn] = cluster_id  # Assign cluster ID (now considered BORDER)\n",
        "\n",
        "            i += 1\n",
        "\n",
        "    # Iterate through each data point\n",
        "    for P in range(len(D)):\n",
        "        if labels[P] != 0:\n",
        "            continue  # Point already classified\n",
        "\n",
        "        neighbors = find_neighbors(P, eps)  # Find neighbors of P\n",
        "\n",
        "        if len(neighbors) < MinPts:\n",
        "            labels[P] = -1  # Mark as NOISE if not in a dense region\n",
        "        else:\n",
        "            cluster_id += 1  # Assign a new cluster ID\n",
        "            expand_cluster(P, neighbors, cluster_id)  # Expand the cluster\n",
        "\n",
        "    return labels\n"
      ],
      "metadata": {
        "id": "5-L6_iEhOdP2"
      },
      "execution_count": 21,
      "outputs": []
    },
    {
      "cell_type": "code",
      "source": [
        " # Example usage with dummy data\n",
        "D = np.array([\n",
        "    [1, 2], [2, 2], [2, 3],\n",
        "    [8, 7], [8, 8], [7, 8],\n",
        "    [0, 1], [5, 5], [5, 6],\n",
        "    [7, 6], [10, 1], [9, 2]\n",
        "])\n",
        "\n",
        "# Parameters\n",
        "eps = 1.5\n",
        "MinPts = 3\n",
        "\n",
        "# Run DBSCAN\n",
        "labels = dbscan(D, eps, MinPts)\n",
        "\n",
        "# Output the cluster labels\n",
        "print(\"Labels:\", labels)"
      ],
      "metadata": {
        "colab": {
          "base_uri": "https://localhost:8080/"
        },
        "id": "btNWoXwr7cFz",
        "outputId": "0e02da66-ab53-4002-deb7-3153fdc00924"
      },
      "execution_count": 22,
      "outputs": [
        {
          "output_type": "stream",
          "name": "stdout",
          "text": [
            "Labels: [ 1  1  1  2  2  2  1 -1 -1  2 -1 -1]\n"
          ]
        }
      ]
    },
    {
      "cell_type": "code",
      "source": [
        "import numpy as np\n",
        "import plotly.graph_objects as go\n",
        "\n",
        "# Define color mapping for visualization\n",
        "color_dict = {\n",
        "    1: 'blue',  # Color for Cluster 1 (change as needed)\n",
        "    2: 'green',  # Color for Cluster 2 (change as needed)\n",
        "    -1: 'red'    # Color for noise points (adjust if needed)\n",
        "}\n",
        "\n",
        "# Assign colors to points based on their labels\n",
        "colors = [color_dict[label] for label in labels]\n",
        "\n",
        "# Define descriptive labels for legend entries\n",
        "legend_labels = {\n",
        "    1: 'Cluster 1',\n",
        "    2: 'Cluster 2',\n",
        "    -1: 'Noise'\n",
        "}\n",
        "\n",
        "# Create Plotly scatter plot\n",
        "fig = go.Figure()\n",
        "fig = fig.add_trace(go.Scatter(\n",
        "    x=D[:, 0],  # X-coordinates of the points\n",
        "    y=D[:, 1],  # Y-coordinates of the points\n",
        "    mode='markers',  # Display as markers\n",
        "    marker=dict(\n",
        "        color=colors,  # Assign colors from the color list\n",
        "        size=10        # Set marker size\n",
        "    ),\n",
        "    text=labels    # Add labels as hover text for individual points\n",
        "))\n",
        "\n",
        "# Update plot layout\n",
        "fig.update_layout(\n",
        "    title='Points with Cluster Colors',  # Set plot title\n",
        "    xaxis_title='X-axis',             # Set x-axis title\n",
        "    yaxis_title='Y-axis'              # Set y-axis title\n",
        ")\n",
        "\n",
        "# Display the generated Plotly plot\n",
        "fig.show()\n"
      ],
      "metadata": {
        "colab": {
          "base_uri": "https://localhost:8080/",
          "height": 542
        },
        "id": "CZgAPNLVGWrW",
        "outputId": "150ac029-6e66-4da5-f2fd-987da0a2e973"
      },
      "execution_count": 25,
      "outputs": [
        {
          "output_type": "display_data",
          "data": {
            "text/html": [
              "<html>\n",
              "<head><meta charset=\"utf-8\" /></head>\n",
              "<body>\n",
              "    <div>            <script src=\"https://cdnjs.cloudflare.com/ajax/libs/mathjax/2.7.5/MathJax.js?config=TeX-AMS-MML_SVG\"></script><script type=\"text/javascript\">if (window.MathJax && window.MathJax.Hub && window.MathJax.Hub.Config) {window.MathJax.Hub.Config({SVG: {font: \"STIX-Web\"}});}</script>                <script type=\"text/javascript\">window.PlotlyConfig = {MathJaxConfig: 'local'};</script>\n",
              "        <script charset=\"utf-8\" src=\"https://cdn.plot.ly/plotly-2.24.1.min.js\"></script>                <div id=\"8f0a3b43-d7a3-401d-a9ea-c8d245e5126c\" class=\"plotly-graph-div\" style=\"height:525px; width:100%;\"></div>            <script type=\"text/javascript\">                                    window.PLOTLYENV=window.PLOTLYENV || {};                                    if (document.getElementById(\"8f0a3b43-d7a3-401d-a9ea-c8d245e5126c\")) {                    Plotly.newPlot(                        \"8f0a3b43-d7a3-401d-a9ea-c8d245e5126c\",                        [{\"marker\":{\"color\":[\"blue\",\"blue\",\"blue\",\"green\",\"green\",\"green\",\"blue\",\"red\",\"red\",\"green\",\"red\",\"red\"],\"size\":10},\"mode\":\"markers\",\"text\":[1.0,1.0,1.0,2.0,2.0,2.0,1.0,-1.0,-1.0,2.0,-1.0,-1.0],\"x\":[1,2,2,8,8,7,0,5,5,7,10,9],\"y\":[2,2,3,7,8,8,1,5,6,6,1,2],\"type\":\"scatter\"}],                        {\"template\":{\"data\":{\"histogram2dcontour\":[{\"type\":\"histogram2dcontour\",\"colorbar\":{\"outlinewidth\":0,\"ticks\":\"\"},\"colorscale\":[[0.0,\"#0d0887\"],[0.1111111111111111,\"#46039f\"],[0.2222222222222222,\"#7201a8\"],[0.3333333333333333,\"#9c179e\"],[0.4444444444444444,\"#bd3786\"],[0.5555555555555556,\"#d8576b\"],[0.6666666666666666,\"#ed7953\"],[0.7777777777777778,\"#fb9f3a\"],[0.8888888888888888,\"#fdca26\"],[1.0,\"#f0f921\"]]}],\"choropleth\":[{\"type\":\"choropleth\",\"colorbar\":{\"outlinewidth\":0,\"ticks\":\"\"}}],\"histogram2d\":[{\"type\":\"histogram2d\",\"colorbar\":{\"outlinewidth\":0,\"ticks\":\"\"},\"colorscale\":[[0.0,\"#0d0887\"],[0.1111111111111111,\"#46039f\"],[0.2222222222222222,\"#7201a8\"],[0.3333333333333333,\"#9c179e\"],[0.4444444444444444,\"#bd3786\"],[0.5555555555555556,\"#d8576b\"],[0.6666666666666666,\"#ed7953\"],[0.7777777777777778,\"#fb9f3a\"],[0.8888888888888888,\"#fdca26\"],[1.0,\"#f0f921\"]]}],\"heatmap\":[{\"type\":\"heatmap\",\"colorbar\":{\"outlinewidth\":0,\"ticks\":\"\"},\"colorscale\":[[0.0,\"#0d0887\"],[0.1111111111111111,\"#46039f\"],[0.2222222222222222,\"#7201a8\"],[0.3333333333333333,\"#9c179e\"],[0.4444444444444444,\"#bd3786\"],[0.5555555555555556,\"#d8576b\"],[0.6666666666666666,\"#ed7953\"],[0.7777777777777778,\"#fb9f3a\"],[0.8888888888888888,\"#fdca26\"],[1.0,\"#f0f921\"]]}],\"heatmapgl\":[{\"type\":\"heatmapgl\",\"colorbar\":{\"outlinewidth\":0,\"ticks\":\"\"},\"colorscale\":[[0.0,\"#0d0887\"],[0.1111111111111111,\"#46039f\"],[0.2222222222222222,\"#7201a8\"],[0.3333333333333333,\"#9c179e\"],[0.4444444444444444,\"#bd3786\"],[0.5555555555555556,\"#d8576b\"],[0.6666666666666666,\"#ed7953\"],[0.7777777777777778,\"#fb9f3a\"],[0.8888888888888888,\"#fdca26\"],[1.0,\"#f0f921\"]]}],\"contourcarpet\":[{\"type\":\"contourcarpet\",\"colorbar\":{\"outlinewidth\":0,\"ticks\":\"\"}}],\"contour\":[{\"type\":\"contour\",\"colorbar\":{\"outlinewidth\":0,\"ticks\":\"\"},\"colorscale\":[[0.0,\"#0d0887\"],[0.1111111111111111,\"#46039f\"],[0.2222222222222222,\"#7201a8\"],[0.3333333333333333,\"#9c179e\"],[0.4444444444444444,\"#bd3786\"],[0.5555555555555556,\"#d8576b\"],[0.6666666666666666,\"#ed7953\"],[0.7777777777777778,\"#fb9f3a\"],[0.8888888888888888,\"#fdca26\"],[1.0,\"#f0f921\"]]}],\"surface\":[{\"type\":\"surface\",\"colorbar\":{\"outlinewidth\":0,\"ticks\":\"\"},\"colorscale\":[[0.0,\"#0d0887\"],[0.1111111111111111,\"#46039f\"],[0.2222222222222222,\"#7201a8\"],[0.3333333333333333,\"#9c179e\"],[0.4444444444444444,\"#bd3786\"],[0.5555555555555556,\"#d8576b\"],[0.6666666666666666,\"#ed7953\"],[0.7777777777777778,\"#fb9f3a\"],[0.8888888888888888,\"#fdca26\"],[1.0,\"#f0f921\"]]}],\"mesh3d\":[{\"type\":\"mesh3d\",\"colorbar\":{\"outlinewidth\":0,\"ticks\":\"\"}}],\"scatter\":[{\"fillpattern\":{\"fillmode\":\"overlay\",\"size\":10,\"solidity\":0.2},\"type\":\"scatter\"}],\"parcoords\":[{\"type\":\"parcoords\",\"line\":{\"colorbar\":{\"outlinewidth\":0,\"ticks\":\"\"}}}],\"scatterpolargl\":[{\"type\":\"scatterpolargl\",\"marker\":{\"colorbar\":{\"outlinewidth\":0,\"ticks\":\"\"}}}],\"bar\":[{\"error_x\":{\"color\":\"#2a3f5f\"},\"error_y\":{\"color\":\"#2a3f5f\"},\"marker\":{\"line\":{\"color\":\"#E5ECF6\",\"width\":0.5},\"pattern\":{\"fillmode\":\"overlay\",\"size\":10,\"solidity\":0.2}},\"type\":\"bar\"}],\"scattergeo\":[{\"type\":\"scattergeo\",\"marker\":{\"colorbar\":{\"outlinewidth\":0,\"ticks\":\"\"}}}],\"scatterpolar\":[{\"type\":\"scatterpolar\",\"marker\":{\"colorbar\":{\"outlinewidth\":0,\"ticks\":\"\"}}}],\"histogram\":[{\"marker\":{\"pattern\":{\"fillmode\":\"overlay\",\"size\":10,\"solidity\":0.2}},\"type\":\"histogram\"}],\"scattergl\":[{\"type\":\"scattergl\",\"marker\":{\"colorbar\":{\"outlinewidth\":0,\"ticks\":\"\"}}}],\"scatter3d\":[{\"type\":\"scatter3d\",\"line\":{\"colorbar\":{\"outlinewidth\":0,\"ticks\":\"\"}},\"marker\":{\"colorbar\":{\"outlinewidth\":0,\"ticks\":\"\"}}}],\"scattermapbox\":[{\"type\":\"scattermapbox\",\"marker\":{\"colorbar\":{\"outlinewidth\":0,\"ticks\":\"\"}}}],\"scatterternary\":[{\"type\":\"scatterternary\",\"marker\":{\"colorbar\":{\"outlinewidth\":0,\"ticks\":\"\"}}}],\"scattercarpet\":[{\"type\":\"scattercarpet\",\"marker\":{\"colorbar\":{\"outlinewidth\":0,\"ticks\":\"\"}}}],\"carpet\":[{\"aaxis\":{\"endlinecolor\":\"#2a3f5f\",\"gridcolor\":\"white\",\"linecolor\":\"white\",\"minorgridcolor\":\"white\",\"startlinecolor\":\"#2a3f5f\"},\"baxis\":{\"endlinecolor\":\"#2a3f5f\",\"gridcolor\":\"white\",\"linecolor\":\"white\",\"minorgridcolor\":\"white\",\"startlinecolor\":\"#2a3f5f\"},\"type\":\"carpet\"}],\"table\":[{\"cells\":{\"fill\":{\"color\":\"#EBF0F8\"},\"line\":{\"color\":\"white\"}},\"header\":{\"fill\":{\"color\":\"#C8D4E3\"},\"line\":{\"color\":\"white\"}},\"type\":\"table\"}],\"barpolar\":[{\"marker\":{\"line\":{\"color\":\"#E5ECF6\",\"width\":0.5},\"pattern\":{\"fillmode\":\"overlay\",\"size\":10,\"solidity\":0.2}},\"type\":\"barpolar\"}],\"pie\":[{\"automargin\":true,\"type\":\"pie\"}]},\"layout\":{\"autotypenumbers\":\"strict\",\"colorway\":[\"#636efa\",\"#EF553B\",\"#00cc96\",\"#ab63fa\",\"#FFA15A\",\"#19d3f3\",\"#FF6692\",\"#B6E880\",\"#FF97FF\",\"#FECB52\"],\"font\":{\"color\":\"#2a3f5f\"},\"hovermode\":\"closest\",\"hoverlabel\":{\"align\":\"left\"},\"paper_bgcolor\":\"white\",\"plot_bgcolor\":\"#E5ECF6\",\"polar\":{\"bgcolor\":\"#E5ECF6\",\"angularaxis\":{\"gridcolor\":\"white\",\"linecolor\":\"white\",\"ticks\":\"\"},\"radialaxis\":{\"gridcolor\":\"white\",\"linecolor\":\"white\",\"ticks\":\"\"}},\"ternary\":{\"bgcolor\":\"#E5ECF6\",\"aaxis\":{\"gridcolor\":\"white\",\"linecolor\":\"white\",\"ticks\":\"\"},\"baxis\":{\"gridcolor\":\"white\",\"linecolor\":\"white\",\"ticks\":\"\"},\"caxis\":{\"gridcolor\":\"white\",\"linecolor\":\"white\",\"ticks\":\"\"}},\"coloraxis\":{\"colorbar\":{\"outlinewidth\":0,\"ticks\":\"\"}},\"colorscale\":{\"sequential\":[[0.0,\"#0d0887\"],[0.1111111111111111,\"#46039f\"],[0.2222222222222222,\"#7201a8\"],[0.3333333333333333,\"#9c179e\"],[0.4444444444444444,\"#bd3786\"],[0.5555555555555556,\"#d8576b\"],[0.6666666666666666,\"#ed7953\"],[0.7777777777777778,\"#fb9f3a\"],[0.8888888888888888,\"#fdca26\"],[1.0,\"#f0f921\"]],\"sequentialminus\":[[0.0,\"#0d0887\"],[0.1111111111111111,\"#46039f\"],[0.2222222222222222,\"#7201a8\"],[0.3333333333333333,\"#9c179e\"],[0.4444444444444444,\"#bd3786\"],[0.5555555555555556,\"#d8576b\"],[0.6666666666666666,\"#ed7953\"],[0.7777777777777778,\"#fb9f3a\"],[0.8888888888888888,\"#fdca26\"],[1.0,\"#f0f921\"]],\"diverging\":[[0,\"#8e0152\"],[0.1,\"#c51b7d\"],[0.2,\"#de77ae\"],[0.3,\"#f1b6da\"],[0.4,\"#fde0ef\"],[0.5,\"#f7f7f7\"],[0.6,\"#e6f5d0\"],[0.7,\"#b8e186\"],[0.8,\"#7fbc41\"],[0.9,\"#4d9221\"],[1,\"#276419\"]]},\"xaxis\":{\"gridcolor\":\"white\",\"linecolor\":\"white\",\"ticks\":\"\",\"title\":{\"standoff\":15},\"zerolinecolor\":\"white\",\"automargin\":true,\"zerolinewidth\":2},\"yaxis\":{\"gridcolor\":\"white\",\"linecolor\":\"white\",\"ticks\":\"\",\"title\":{\"standoff\":15},\"zerolinecolor\":\"white\",\"automargin\":true,\"zerolinewidth\":2},\"scene\":{\"xaxis\":{\"backgroundcolor\":\"#E5ECF6\",\"gridcolor\":\"white\",\"linecolor\":\"white\",\"showbackground\":true,\"ticks\":\"\",\"zerolinecolor\":\"white\",\"gridwidth\":2},\"yaxis\":{\"backgroundcolor\":\"#E5ECF6\",\"gridcolor\":\"white\",\"linecolor\":\"white\",\"showbackground\":true,\"ticks\":\"\",\"zerolinecolor\":\"white\",\"gridwidth\":2},\"zaxis\":{\"backgroundcolor\":\"#E5ECF6\",\"gridcolor\":\"white\",\"linecolor\":\"white\",\"showbackground\":true,\"ticks\":\"\",\"zerolinecolor\":\"white\",\"gridwidth\":2}},\"shapedefaults\":{\"line\":{\"color\":\"#2a3f5f\"}},\"annotationdefaults\":{\"arrowcolor\":\"#2a3f5f\",\"arrowhead\":0,\"arrowwidth\":1},\"geo\":{\"bgcolor\":\"white\",\"landcolor\":\"#E5ECF6\",\"subunitcolor\":\"white\",\"showland\":true,\"showlakes\":true,\"lakecolor\":\"white\"},\"title\":{\"x\":0.05},\"mapbox\":{\"style\":\"light\"}}},\"title\":{\"text\":\"Points with Cluster Colors\"},\"xaxis\":{\"title\":{\"text\":\"X-axis\"}},\"yaxis\":{\"title\":{\"text\":\"Y-axis\"}}},                        {\"responsive\": true}                    ).then(function(){\n",
              "                            \n",
              "var gd = document.getElementById('8f0a3b43-d7a3-401d-a9ea-c8d245e5126c');\n",
              "var x = new MutationObserver(function (mutations, observer) {{\n",
              "        var display = window.getComputedStyle(gd).display;\n",
              "        if (!display || display === 'none') {{\n",
              "            console.log([gd, 'removed!']);\n",
              "            Plotly.purge(gd);\n",
              "            observer.disconnect();\n",
              "        }}\n",
              "}});\n",
              "\n",
              "// Listen for the removal of the full notebook cells\n",
              "var notebookContainer = gd.closest('#notebook-container');\n",
              "if (notebookContainer) {{\n",
              "    x.observe(notebookContainer, {childList: true});\n",
              "}}\n",
              "\n",
              "// Listen for the clearing of the current output cell\n",
              "var outputEl = gd.closest('.output');\n",
              "if (outputEl) {{\n",
              "    x.observe(outputEl, {childList: true});\n",
              "}}\n",
              "\n",
              "                        })                };                            </script>        </div>\n",
              "</body>\n",
              "</html>"
            ]
          },
          "metadata": {}
        }
      ]
    }
  ]
}